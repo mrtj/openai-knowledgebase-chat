{
 "cells": [
  {
   "cell_type": "code",
   "execution_count": 1,
   "metadata": {},
   "outputs": [],
   "source": [
    "from chatbot import ChatBot"
   ]
  },
  {
   "cell_type": "code",
   "execution_count": 2,
   "metadata": {},
   "outputs": [],
   "source": [
    "import getpass\n",
    "openai_api_key = getpass.getpass('Enter OpenAI API key:')"
   ]
  },
  {
   "cell_type": "code",
   "execution_count": 3,
   "metadata": {},
   "outputs": [],
   "source": [
    "agent = ChatBot('empatair', 'it', openai_api_key, max_prompt_len=400)"
   ]
  },
  {
   "cell_type": "code",
   "execution_count": 4,
   "metadata": {},
   "outputs": [
    {
     "name": "stdout",
     "output_type": "stream",
     "text": [
      "Context:\n",
      "Gli animali non possono o viaggiare su voli EmpatAir, ad eccezione dei cani guida che viaggiano con i loro proprietari, che devono essere in possesso dei documenti indicati dai regolamenti dei paesi interessati al trasporto, nel rispetto delle condizioni imposte. Gli animali domestici non sono ammessi sui voli EmpatAir. Devi informarci della tua intenzione di viaggiare con un cane guida, chiamando il call center di EmpatAir.\n",
      "\n",
      "###\n",
      "\n",
      "I liquidi trasportati nel bagaglio a mano sono soggetti alle seguenti restrizioni imposte dalle autorità: il contenitore del liquido non deve avere un volume maggiore di 100 ml tutti i contenitori di liquidi devono essere sistemati in una busta di plastica trasparente, richiudibile, del volume di 1 litro e di dimensioni pari a 20x20 cm. Le buste di plastica vanno esibite separatamente al controllo di sicurezza. Dovrai consegnare i liquidi che non soddisfano le restrizioni sopra indicate alla stazione di sicurezza dell'aeroporto.\n"
     ]
    },
    {
     "data": {
      "text/plain": [
       "'Gli animali domestici non sono ammessi sui voli EmpatAir, ad eccezione dei cani guida che viaggiano con i loro proprietari, che devono essere in possesso dei documenti indicati dai regolamenti dei paesi interessati al trasporto, nel rispetto delle condizioni imposte. Se hai bisogno di viaggiare con un cane guida, devi informarci della tua intenzione di viaggiare chiamando il call center di EmpatAir.'"
      ]
     },
     "execution_count": 4,
     "metadata": {},
     "output_type": "execute_result"
    }
   ],
   "source": [
    "agent.answer_question(\"Si possono portare animali sui voli?\", debug=True)"
   ]
  },
  {
   "cell_type": "code",
   "execution_count": 40,
   "metadata": {},
   "outputs": [
    {
     "data": {
      "text/plain": [
       "'Mi dispiace, ma EmpatAir non consente il trasporto di animali domestici a bordo dei propri voli, ad eccezione dei cani guida che viaggiano con i loro proprietari. Se devi viaggiare con il tuo gattino, ti consiglio di cercare altre opzioni di trasporto per animali domestici o di contattare altre compagnie aeree che potrebbero avere politiche diverse riguardo al trasporto di animali.'"
      ]
     },
     "execution_count": 40,
     "metadata": {},
     "output_type": "execute_result"
    }
   ],
   "source": [
    "agent.answer_question(\"Puo volare il mio gattino con me?\")"
   ]
  },
  {
   "cell_type": "code",
   "execution_count": null,
   "metadata": {},
   "outputs": [],
   "source": []
  }
 ],
 "metadata": {
  "kernelspec": {
   "display_name": "openai",
   "language": "python",
   "name": "python3"
  },
  "language_info": {
   "codemirror_mode": {
    "name": "ipython",
    "version": 3
   },
   "file_extension": ".py",
   "mimetype": "text/x-python",
   "name": "python",
   "nbconvert_exporter": "python",
   "pygments_lexer": "ipython3",
   "version": "3.10.9"
  },
  "orig_nbformat": 4,
  "vscode": {
   "interpreter": {
    "hash": "d61f1220a9d67b3bf396d455a7c01af2e06045ad7a3f61245d91ccad865b361c"
   }
  }
 },
 "nbformat": 4,
 "nbformat_minor": 2
}
